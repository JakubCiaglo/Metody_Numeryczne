{
 "cells": [
  {
   "cell_type": "markdown",
   "metadata": {},
   "source": [
    "## Importy"
   ]
  },
  {
   "cell_type": "code",
   "execution_count": null,
   "metadata": {},
   "outputs": [],
   "source": [
    "import numpy as np\n",
    "from scipy.linalg import norm, hilbert, eig, solve, invs\n",
    "import time\n",
    "import tracemalloc\n",
    "import matplotlib.pyplot as plt"
   ]
  },
  {
   "cell_type": "markdown",
   "metadata": {},
   "source": [
    "# Funkcje z listy 2, które zostaną wykorzystane w zadaniach"
   ]
  },
  {
   "cell_type": "code",
   "execution_count": 3,
   "metadata": {},
   "outputs": [],
   "source": [
    "def gauss(matrix):\n",
    "    n = matrix.shape[0]\n",
    "    for i in range(n):\n",
    "        max_row = np.argmax(np.abs(matrix[i:, i])) + i\n",
    "\n",
    "        if max_row != i:\n",
    "            matrix[[i, max_row]] = matrix[[max_row, i]]\n",
    "\n",
    "        for j in range(i + 1, n):\n",
    "            ratio = matrix[j, i] / matrix[i, i]\n",
    "            matrix[j] -= ratio * matrix[i]\n",
    "    \n",
    "    return matrix"
   ]
  },
  {
   "cell_type": "code",
   "execution_count": 4,
   "metadata": {},
   "outputs": [],
   "source": [
    "def solution(A, b):\n",
    "    matrix = np.hstack([A, b.reshape(-1, 1)])\n",
    "    gauss(matrix)\n",
    "    n = matrix.shape[0]\n",
    "    x = np.zeros(n)\n",
    "    \n",
    "    for i in range(n - 1, -1, -1):\n",
    "        x[i] = (matrix[i, -1] - np.dot(matrix[i, i + 1:n], x[i + 1:n])) / matrix[i, i]\n",
    "    \n",
    "    return x"
   ]
  },
  {
   "cell_type": "code",
   "execution_count": 5,
   "metadata": {},
   "outputs": [],
   "source": [
    "def determinant(A):\n",
    "    n = A.shape[0]\n",
    "    det = 1\n",
    "    row_swaps = 0  \n",
    "    \n",
    "    for i in range(n):\n",
    "        max_row = np.argmax(np.abs(A[i:, i])) + i\n",
    "\n",
    "        if max_row != i:\n",
    "            A[[i, max_row]] = A[[max_row, i]]\n",
    "            row_swaps += 1  \n",
    "        \n",
    "        if A[i, i] == 0:\n",
    "            return 0\n",
    "\n",
    "        for j in range(i + 1, n):\n",
    "            ratio = A[j, i] / A[i, i]\n",
    "            A[j] -= ratio * A[i]\n",
    "\n",
    "    for i in range(n):\n",
    "        det *= A[i, i]\n",
    "\n",
    "    if row_swaps % 2 == 1:\n",
    "        det *= -1  \n",
    "    \n",
    "    return det"
   ]
  },
  {
   "cell_type": "code",
   "execution_count": 6,
   "metadata": {},
   "outputs": [],
   "source": [
    "def inverse(A):\n",
    "    if determinant(A) == 0:\n",
    "        raise ValueError('Macierz osobliwa, nie ma macierzy odwrotnej')\n",
    "    n = A.shape[0]\n",
    "    A = np.hstack([A, np.eye(n)])\n",
    "    \n",
    "    for i in range(n):\n",
    "        max_row = np.argmax(np.abs(A[i:, i])) + i\n",
    "        \n",
    "        if max_row != i:\n",
    "            A[[i, max_row]] = A[[max_row, i]]\n",
    "        \n",
    "        A[i] /= A[i, i]\n",
    "\n",
    "        for j in range(n):\n",
    "            if j != i:\n",
    "                A[j] -= A[i] * A[j, i]\n",
    "\n",
    "    A_inv = A[:, n:]\n",
    "    \n",
    "    return A_inv"
   ]
  },
  {
   "cell_type": "markdown",
   "metadata": {},
   "source": [
    "___\n",
    "# Zadanie 1\n",
    "Funkcja `Lu(A)` dokonuje dekompozycji macierzy kwadratowej $ A $ na macierze dolnotrójkątną $ L $ oraz macierzy górnotrójkątną $ U $, takich że $ A = L \\cdot U $. Macierz $ L $ posiada jedynki na diagonali, a $ U $ zawiera elementy na i nad główną przekątną. Funkcja iteracyjnie oblicza elementy $ L $ i $ U $, używając sum częściowych dla każdego elementu. Jeśli macierz $ A $ jest osobliwa, funkcja zgłasza błąd."
   ]
  },
  {
   "cell_type": "code",
   "execution_count": 7,
   "metadata": {},
   "outputs": [],
   "source": [
    "def Lu(A):\n",
    "    A = np.array(A)\n",
    "    n = A.shape[0]\n",
    "    L = np.zeros_like(A)\n",
    "    U = np.zeros_like(A)\n",
    "\n",
    "    for i in range(n):\n",
    "        for k in range(i, n):\n",
    "            L_sum = sum(L[i][j] * U[j][k] for j in range(i))\n",
    "            U[i][k] = A[i][k] - L_sum\n",
    "\n",
    "        for k in range(i, n):\n",
    "            if i == k:\n",
    "                L[i][i] = 1.0  \n",
    "            else:\n",
    "                U_sum = sum(L[k][j] * U[j][i] for j in range(i))\n",
    "                if U[i][i] == 0:\n",
    "                    raise ValueError('Macierz osobliwa, nie może zostać rozłożona na LU.')\n",
    "                L[k][i] = (A[k][i] - U_sum) / U[i][i]\n",
    "\n",
    "    return L, U"
   ]
  },
  {
   "cell_type": "markdown",
   "metadata": {},
   "source": [
    "\n",
    "Zaimplementowana funkcja `iterative_refinement(A, b, u, max_iter)` w pojedynczej precyzji iteracyjnie poprawia rozwiązanie układu równań. Najpierw oblicza początkowe rozwiązanie za pomocą rozkładu LU, który jest obliczany za pomocą funckcji `Lu(A)`  a następnie iteracyjnie koryguje $x$ wykorzystując resztę $r = b - Ax$. Proces kończy się, gdy norma reszty jest mniejsza niż norma pomnożonej macierzy A przez wektor $\\vec{x}$ pomnożonej przez $u$, wektora $\\vec{b}$ pomnożonego przez $u$, gdzie $u$ jest jednostką maszynową lub osiągnięty zostanie limit iteracji."
   ]
  },
  {
   "cell_type": "code",
   "execution_count": 9,
   "metadata": {},
   "outputs": [
    {
     "name": "stdout",
     "output_type": "stream",
     "text": [
      "Rozwiązanie x: [   -94.87707   2157.6807  -10699.923    17904.705    -9442.492  ]\n"
     ]
    }
   ],
   "source": [
    "def iterative_refinement(A, b, u=1e-16, max_iterations=10000):\n",
    "    A = A.astype(np.float32)\n",
    "    b = b.astype(np.float32)\n",
    "    L,U = Lu(A)\n",
    "    L = L.astype(np.float32)\n",
    "    U = U.astype(np.float32)\n",
    "    y = solution(L, b).astype(np.float32)\n",
    "    x = solution(U, y).astype(np.float32)\n",
    "\n",
    "    r = b - np.dot(A, x)\n",
    "    r = r.astype(np.float32)\n",
    "    \n",
    "    for _ in range(max_iterations):\n",
    "        if norm(r,np.inf) > norm(np.dot(A,x), np.inf) * u or norm(r) > norm(b) * u:\n",
    "            delta_x = solution(A, r).astype(np.float32)\n",
    "            x += delta_x\n",
    "            x = x.astype(np.float32)\n",
    "            r = b - np.dot(A, x)\n",
    "            r = r.astype(np.float32)\n",
    "        else:\n",
    "            break\n",
    "            \n",
    "    return x\n",
    "\n",
    "A = hilbert(5) \n",
    "b = np.array([5, 4, 3, 2, 1])\n",
    "\n",
    "solution_x= iterative_refinement(A, b)\n",
    "print(f'Rozwiązanie x: {solution_x}')"
   ]
  },
  {
   "cell_type": "markdown",
   "metadata": {},
   "source": [
    "___\n",
    "# Zadanie 2"
   ]
  },
  {
   "cell_type": "markdown",
   "metadata": {},
   "source": [
    "Funkcja `LDU(A)` rozkłada macierz $ A $ na trzy macierze: $ L $ (dolna), $ D $ (diagonalna) i $ U $ (górna). Macierz $ L $ zawiera elementy poniżej diagonali, $ D $ elementy na diagonali, a $ U $ elementy powyżej diagonali. Na końcu zwraca te macierze, których suma daje oryginalną macierz $ A $."
   ]
  },
  {
   "cell_type": "code",
   "execution_count": 10,
   "metadata": {},
   "outputs": [],
   "source": [
    "def LDU(A):\n",
    "    n = A.shape[0]\n",
    "    L = np.zeros_like(A, dtype=float) \n",
    "    D = np.zeros_like(A, dtype=float) \n",
    "    U = np.zeros_like(A, dtype=float) \n",
    "    for i in range(n):\n",
    "        for j in range(n):\n",
    "            if i > j:\n",
    "                L[i, j] = A[i, j]\n",
    "            elif i == j:\n",
    "                D[i, j] = A[i, j] \n",
    "            elif i < j:\n",
    "                U[i, j] = A[i, j]  \n",
    "\n",
    "    return L, D, U"
   ]
  },
  {
   "cell_type": "markdown",
   "metadata": {},
   "source": [
    "Funkcja `create_matrix_vector(n)` generuje zadaną macierz $A$ i wektor $\\vec{b}$."
   ]
  },
  {
   "cell_type": "code",
   "execution_count": 11,
   "metadata": {},
   "outputs": [],
   "source": [
    "def create_matrix_vector(n):\n",
    "    A = np.zeros((n, n), dtype=float)\n",
    "    \n",
    "    for i in range(n):\n",
    "        A[i, i] = 4  \n",
    "        \n",
    "        if i > 0:\n",
    "            A[i, i-1] = -1  \n",
    "        \n",
    "        if i < n-1:\n",
    "            A[i, i+1] = -1 \n",
    "\n",
    "    A[0, -1] = 1\n",
    "    A[-1, 0] = 1\n",
    "\n",
    "    B = np.zeros(n, dtype=float)\n",
    "    B[-1] = 100\n",
    "    \n",
    "    return A, B"
   ]
  },
  {
   "cell_type": "markdown",
   "metadata": {},
   "source": [
    "Funkcja `gauss_seidel(A, b)` iteracyjnie rozwiązuje układ $Ax = b$, najpierw sprawdzając, czy macierz $A$ spełnia warunek zbieżności poprzez obliczenie promienia spektralnego macierzy $M_{GS}$. Następnie macierz $A$ jest dekomponowana na części $D$, $L$ i $U$, a $M_{GS}$ oraz wektor $x_0$ są wykorzystywane do iteracyjnego obliczania kolejnych przybliżeń $x$. Proces trwa, dopóki norma różnicy między kolejnymi przybliżeniami nie osiągnie zadanej tolerancji lub nie zostanie osiągnięty limit iteracji."
   ]
  },
  {
   "cell_type": "code",
   "execution_count": 12,
   "metadata": {},
   "outputs": [
    {
     "name": "stdout",
     "output_type": "stream",
     "text": [
      "Rozwiązanie x:\n",
      " [-7.73502692e+00 -2.07259421e+00 -5.55349941e-01 -1.48805549e-01\n",
      " -3.98722562e-02 -1.06834753e-02 -2.86164518e-03 -7.63105381e-04\n",
      " -1.90776345e-04  4.91956736e-18  1.90776345e-04  7.63105381e-04\n",
      "  2.86164518e-03  1.06834753e-02  3.98722562e-02  1.48805549e-01\n",
      "  5.55349941e-01  2.07259421e+00  7.73502692e+00  2.88675135e+01]\n"
     ]
    }
   ],
   "source": [
    "A, b = create_matrix_vector(20)\n",
    "\n",
    "def check_convergence(A):\n",
    "    L,D,U = LDU(A)\n",
    "    \n",
    "    N = inverse(D + L)\n",
    "    M_gs = np.dot(-N, U)\n",
    "\n",
    "    eigenvalues= eig(M_gs)[0]\n",
    "    spectral_radius = max(abs(eigenvalues))\n",
    "    \n",
    "    return spectral_radius <=1\n",
    "\n",
    "def gauss_seidel(A, b, error = 1e-16, max_iter = 1000):\n",
    "    if not check_convergence(A):\n",
    "        raise ValueError('Macierz nie spełnia warunku zbieżności.')\n",
    "    n = len(b)\n",
    "    L,D,U = LDU(A)\n",
    "    N = inv(D + L)\n",
    "    M_gs = np.dot(-N, U)\n",
    "    x_0 = np.zeros(n)\n",
    "    x = np.dot(M_gs, x_0) + np.dot(N, b)\n",
    "\n",
    "    i = 0\n",
    "    while norm(x-x_0, np.inf) > error:\n",
    "        i +=1 \n",
    "        if i>= max_iter:\n",
    "            print('Nie osiągnięto zbieżności w limicie iteracji')\n",
    "            break\n",
    "        x_0 = x\n",
    "        x = np.dot(M_gs, x_0) + np.dot(N, b)\n",
    "    return x\n",
    "\n",
    "solution = gauss_seidel(A, b)\n",
    "print(f'Rozwiązanie x:\\n {solution}')\n"
   ]
  },
  {
   "cell_type": "markdown",
   "metadata": {},
   "source": [
    "___\n",
    "# Zadanie 3\n",
    "\n",
    "Kod mierzy czas wykonania metody Gaussa-Seidla oraz wbudowanej funkcji `scipy.linalg.solve`, a także analizuje zużycie pamięci przez obie metody za pomocą `tracemalloc`. Wyniki obejmują czas wykonania oraz bieżące i maksymalne zużycie pamięci w MB, co pozwala porównać wydajność obu podejść pod kątem szybkości i pamięciożerności."
   ]
  },
  {
   "cell_type": "code",
   "execution_count": 13,
   "metadata": {},
   "outputs": [
    {
     "name": "stdout",
     "output_type": "stream",
     "text": [
      "Rozwiązanie uzyskane za pomocą metody zaimplementowanej w scipy: \n",
      "[-7.73502692e+00 -2.07259421e+00 -5.55349941e-01 -1.48805549e-01\n",
      " -3.98722562e-02 -1.06834753e-02 -2.86164518e-03 -7.63105381e-04\n",
      " -1.90776345e-04 -3.63138871e-20  1.90776345e-04  7.63105381e-04\n",
      "  2.86164518e-03  1.06834753e-02  3.98722562e-02  1.48805549e-01\n",
      "  5.55349941e-01  2.07259421e+00  7.73502692e+00  2.88675135e+01]\n",
      "\n",
      "Czas wykonywania metodą Gaussa-Seidela: 0.006367207, \n",
      "Czas wykonywania metodą zaimplementowaną w scipy: 0.000499725\n"
     ]
    }
   ],
   "source": [
    "start1 = time.time()\n",
    "solution = gauss_seidel(A, b)\n",
    "stop1 = time.time()\n",
    "time_gauss_seidel = stop1 - start1\n",
    "\n",
    "start2 = time.time()\n",
    "x_scipy = solve(A,b)\n",
    "end2 = time.time()\n",
    "time_scipy_solve = end2 - start2\n",
    "\n",
    "print(f'Rozwiązanie uzyskane za pomocą metody zaimplementowanej w scipy: \\n{x_scipy}')\n",
    "print(f'\\nCzas wykonywania metodą Gaussa-Seidela: {time_gauss_seidel:.9f}, \\nCzas wykonywania metodą zaimplementowaną w scipy: {time_scipy_solve:.9f}')"
   ]
  },
  {
   "cell_type": "code",
   "execution_count": 73,
   "metadata": {},
   "outputs": [
    {
     "name": "stdout",
     "output_type": "stream",
     "text": [
      "scipy.linalg.solve zużycie pamięci: 0.000969 MB, peak: 0.021179 MB\n",
      "gauss_seidel zużycie pamięci: 0.002482 MB, peak: 0.063946 MB\n"
     ]
    }
   ],
   "source": [
    "tracemalloc.start()\n",
    "solve(A, b)\n",
    "current, peak = tracemalloc.get_traced_memory()\n",
    "print(f'scipy.linalg.solve zużycie pamięci: {current / 10**6:.6f} MB, peak: {peak / 10**6:.6f} MB')\n",
    "tracemalloc.stop()\n",
    "\n",
    "tracemalloc.start()\n",
    "gauss_seidel(A, b)\n",
    "current, peak = tracemalloc.get_traced_memory()\n",
    "print(f'gauss_seidel zużycie pamięci: {current / 10**6:.6f} MB, peak: {peak / 10**6:.6f} MB')\n",
    "tracemalloc.stop()"
   ]
  },
  {
   "cell_type": "markdown",
   "metadata": {},
   "source": [
    "Korzystając z uzyskanych danych możemy stwierdzić, że dla zadanego układu równań, metoda scipy jest bardziej optymalna od metody Gaussa- Seidla. Taka sytuacja może być spowodowana tym, że zadany układ równań wolno zbiega do swojego rozwiązania, a metoda wbudowana w scipy jest szybka dla niewielkich układów równań. W teorii metoda wbudowana w scipy ma złożoność $O(n^3)$ dla każdej macierzy. Metoda Gaussa- Seidla ma natomiast złożoność $O(k \\cdot n^2)$, gdzie $k$ to liczba iteracji, więc jest niewiększa niż złożoność wbudowanej w scipy metody.  "
   ]
  },
  {
   "cell_type": "markdown",
   "metadata": {},
   "source": [
    "___\n",
    "# Zadanie 4\n",
    "Kod generuje macierz $A$ o zadanej wielkości $n$ z wartościami na głównej diagonali rosnącymi o 0.025, oraz wartościami 5 na górnej diagonali. Następnie iteracyjnie oblicza $x^{(k)} = A \\cdot x^{(k-1)}$, gdzie $x^{(0)}$ jest wektorem jedynek. Dla każdej iteracji oblicza się wartość $\\eta_k = \\frac{||x^{(k)}||_2}{||x^{(0)}||_2}$, rejestrując jej zmiany dla kolejnych wartości $k$. \n",
    "\n",
    "Wykres pokazuje, jak wartość $\\eta_k$ zmienia się w kolejnych iteracjach, zaznaczając indeks $k$, w którym $\\eta_k$ osiąga swoje maksimum. Na końcu program wypisuje najmniejsze $k$, dla którego norma $x^{(k)}$ jest mniejsza niż norma wektora $x^{(0)}$."
   ]
  },
  {
   "cell_type": "code",
   "execution_count": 14,
   "metadata": {},
   "outputs": [],
   "source": [
    "def create_matrix(n=20):\n",
    "    main_diagonal = np.arange(0.025,0.525,0.025)\n",
    "\n",
    "    upper_diagonal = np.full(n - 1, 5.0)\n",
    "    \n",
    "    A = np.zeros((n, n),dtype=float)\n",
    "    \n",
    "    np.fill_diagonal(A, main_diagonal)\n",
    "    \n",
    "    np.fill_diagonal(A[:, 1:], upper_diagonal)\n",
    "    \n",
    "    return A"
   ]
  },
  {
   "cell_type": "code",
   "execution_count": 15,
   "metadata": {},
   "outputs": [
    {
     "data": {
      "image/png": "[encoded data removed]",
      "text/plain": [
       "<Figure size 1000x600 with 1 Axes>"
      ]
     },
     "metadata": {},
     "output_type": "display_data"
    },
    {
     "name": "stdout",
     "output_type": "stream",
     "text": [
      "Najmniejsze k, dla którego ||x^(k)|| < ||x^(0)|| to k = 86\n"
     ]
    }
   ],
   "source": [
    "n = 20\n",
    "num_iterations = 100\n",
    "\n",
    "A = create_matrix(n)\n",
    "x = np.ones(n)\n",
    "eta_values = []\n",
    "\n",
    "norm_x0 = norm(x,2)\n",
    "k_values = []\n",
    "\n",
    "for k in range(1,num_iterations+1):\n",
    "    x = np.dot(A,x) \n",
    "    if norm(x,2) < norm_x0:\n",
    "        k_values.append(k)\n",
    "    eta_k = norm(x,2) / norm_x0  \n",
    "    eta_values.append(eta_k)\n",
    "\n",
    "k_min = np.min(k_values)\n",
    "\n",
    "maximum_eta_index = eta_values.index(max(eta_values)) + 1\n",
    "\n",
    "plt.figure(figsize = (10,6))\n",
    "plt.plot(range(1, num_iterations + 1), eta_values, marker='o')\n",
    "plt.xlabel('k')\n",
    "plt.ylabel(r'$\\eta_k$')\n",
    "plt.title(r'Wykres $\\eta_k$ dla $k = 1, \\dots, 100$')\n",
    "plt.axvline(maximum_eta_index, color = 'red', linestyle = '--', linewidth = 2, label = f'k = {maximum_eta_index}')\n",
    "plt.grid(True)\n",
    "plt.legend()\n",
    "plt.show()\n",
    "\n",
    "print(f'Najmniejsze k, dla którego ||x^(k)|| < ||x^(0)|| to k = {k_min}')\n"
   ]
  },
  {
   "cell_type": "markdown",
   "metadata": {},
   "source": [
    "Możemy zauważyć, że początkowo $\\eta_k > 10^{14}$ i osiąga swoje maksimum dla $k = 26$, a następnie maleje. Najmniejszym $k$, dla którego $||x^{(k)}||_2 < ||x^{(0)}||_2$ to $k = 86$."
   ]
  }
 ],
 "metadata": {
  "kernelspec": {
   "display_name": "Python 3",
   "language": "python",
   "name": "python3"
  },
  "language_info": {
   "codemirror_mode": {
    "name": "ipython",
    "version": 3
   },
   "file_extension": ".py",
   "mimetype": "text/x-python",
   "name": "python",
   "nbconvert_exporter": "python",
   "pygments_lexer": "ipython3",
   "version": "3.13.0"
  }
 },
 "nbformat": 4,
 "nbformat_minor": 2
}
