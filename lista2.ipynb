{
 "cells": [
  {
   "cell_type": "markdown",
   "metadata": {},
   "source": [
    "# Importy:"
   ]
  },
  {
   "cell_type": "code",
   "execution_count": 91,
   "metadata": {},
   "outputs": [],
   "source": [
    "import numpy as np\n",
    "from scipy.linalg import solve, inv, det"
   ]
  },
  {
   "cell_type": "markdown",
   "metadata": {},
   "source": [
    "___\n",
    "### Funkcja eliminacji Gaussa\n",
    "Zaimpelementowana przeze mnie funkcja `gauss(matrix)` pobiera daną macierz, następnie ustala liczbę kolumn, i  w każdej z nich szuka elementu podstawowego, czyli maksymalnego w danej kolumnie. Jeśli jest to konieczne, zamienia wiersze miejscami. Następnie, zgodnie z algorytmem eliminacji Gaussa, eliminuje elementy poniżej głównej przekątnej, zwracając macierz górnotrójkątną. \n"
   ]
  },
  {
   "cell_type": "code",
   "execution_count": 77,
   "metadata": {},
   "outputs": [],
   "source": [
    "def gauss(matrix):\n",
    "    n = matrix.shape[0]\n",
    "    for i in range(n):\n",
    "        max_row = np.argmax(np.abs(matrix[i:, i])) + i\n",
    "\n",
    "        if max_row != i:\n",
    "            matrix[[i, max_row]] = matrix[[max_row, i]]\n",
    "\n",
    "        for j in range(i + 1, n):\n",
    "            ratio = matrix[j, i] / matrix[i, i]\n",
    "            matrix[j] -= ratio * matrix[i]\n",
    "    \n",
    "    return matrix"
   ]
  },
  {
   "cell_type": "markdown",
   "metadata": {},
   "source": [
    "___\n",
    "### Funkcja rozwiązywania układów równań w postaci macierzowej\n",
    "\n",
    "Zaimplementowana funkcja `solution(A, b)` na początku łączy macierz współczynników $A$ z wektorem wyników $\\vec{b}$, tworząc jedną macierz rozszerzoną. Następnie wywołuje funkcję `gauss(matrix)`, aby rozwiązać układ równań metodą eliminacji Gaussa. Następnie, przy użyciu metody wstecznej eliminacji, iteruje przez wiersze od dołu do góry, obliczając wartość każdej zmiennej. Funkcja końcowo zwraca wektor rozwiązań $\\vec{x}$."
   ]
  },
  {
   "cell_type": "code",
   "execution_count": 56,
   "metadata": {},
   "outputs": [],
   "source": [
    "def solution(A, b):\n",
    "    matrix = np.hstack([A, b.reshape(-1, 1)])\n",
    "    gauss(matrix)\n",
    "    n = matrix.shape[0]\n",
    "    x = np.zeros(n)\n",
    "    \n",
    "    for i in range(n - 1, -1, -1):\n",
    "        x[i] = (matrix[i, -1] - np.dot(matrix[i, i + 1:n], x[i + 1:n])) / matrix[i, i]\n",
    "    \n",
    "    return x"
   ]
  },
  {
   "cell_type": "markdown",
   "metadata": {},
   "source": [
    "___\n",
    "### Funkcja licząca wyznacznik macierzy\n",
    "Zaimplementowana funkcja `determinant(matrix)` oblicza wyznacznik macierzy kwadratowej za pomocą metody eliminacji Gaussa. \n",
    "Funkcja przeprowadza eliminację Gaussa, zliczając przy tym zamiany wierszy. Jeśli napotka element diagonalny równy zero, zwraca wyznacznik równy zeru.\n",
    "Wyznacznik obliczany jest jako iloczyn elementów na głównej przekątnej macierzy. Wynik zwracany jest z uwzględnieniem, że jeśli liczba zamian wierszy jest nieparzysta, znak wyznacznika jest zmieniany na przeciwny."
   ]
  },
  {
   "cell_type": "code",
   "execution_count": null,
   "metadata": {},
   "outputs": [],
   "source": [
    "def determinant(matrix):\n",
    "    n = matrix.shape[0]\n",
    "    det = 1\n",
    "    row_swaps = 0  \n",
    "    \n",
    "    for i in range(n):\n",
    "        max_row = np.argmax(np.abs(matrix[i:, i])) + i\n",
    "\n",
    "        if max_row != i:\n",
    "            matrix[[i, max_row]] = matrix[[max_row, i]]\n",
    "            row_swaps += 1  \n",
    "        \n",
    "        if matrix[i, i] == 0:\n",
    "            return 0\n",
    "\n",
    "        for j in range(i + 1, n):\n",
    "            ratio = matrix[j, i] / matrix[i, i]\n",
    "            matrix[j] -= ratio * matrix[i]\n",
    "\n",
    "    for i in range(n):\n",
    "        det *= matrix[i, i]\n",
    "\n",
    "    if row_swaps % 2 == 1:\n",
    "        det *= -1  \n",
    "    \n",
    "    return det"
   ]
  },
  {
   "cell_type": "markdown",
   "metadata": {},
   "source": [
    "___\n",
    "### Funkcja mnożąca dwie macierze\n",
    "Zaimplementowana przeze mnie funkcja `multiply(A, B)` wykonuje mnożenie dwóch macierzy: $A$ oraz $B$. Na początku funkcja ustala liczby wierszy i kolumn macierzy oraz sprawdza, czy liczba kolumn w macierzy $A$ jest zgodna z liczbą wierszy w macierzy $B$.\n",
    "Następnie tworzy macierz wynikową o wymiarach odpowiadających liczbie wierszy z $A$ i liczbie kolumn z $B$. \n",
    "Funkcja wykonuje mnożenie macierzy poprzez zagnieżdżoną pętlę: dla każdego wiersza macierzy $A$ i każdej kolumny macierzy $B$, sumuje iloczyny odpowiednich elementów, aby uzyskać elementy macierzy wynikowej, która jest na końcu zwracana."
   ]
  },
  {
   "cell_type": "code",
   "execution_count": 92,
   "metadata": {},
   "outputs": [],
   "source": [
    "def multiply(A, B):\n",
    "    rows_A = len(A)\n",
    "    cols_A = len(A[0])\n",
    "    rows_B = len(B)\n",
    "    if cols_A != rows_B:\n",
    "        raise ValueError('Niezgodne wymiary')\n",
    "    cols_B = len(B[0])\n",
    "\n",
    "    result = [[0 for _ in range(cols_B)] for _ in range(rows_A)]\n",
    "\n",
    "    for i in range(rows_A):\n",
    "        for j in range(cols_B):\n",
    "            for k in range(cols_A):\n",
    "                result[i][j] += A[i][k] * B[k][j]\n",
    "\n",
    "    return result"
   ]
  },
  {
   "cell_type": "markdown",
   "metadata": {},
   "source": [
    "___\n",
    "### Funkcja obliczająca macierz odwrotną\n",
    "\n",
    "\n",
    "Funkcja `inverse(matrix)` oblicza macierz odwrotną dla danej macierzy kwadratowej. Na początku funkcja sprawdza, czy wyznacznik macierzy jest równy zero. Jeśli tak, funkcja zgłosi błąd, ponieważ nie istnieje macierz odwrotna do macierzy osobliwej.\n",
    "Następnie tworzy macierz rozszerzoną o macierz jednostkową. W dalszej kolejności funkcja przeprowadza algorytm eliminacji Gaussa, lecz w tym przypadku, chcemy aby macierz A została zamieniona na macierz jednostkową. \n",
    "Na koniec funkcja zwraca prawą część macierzy rozszerzonej, która zawiera obliczoną macierz odwrotną."
   ]
  },
  {
   "cell_type": "code",
   "execution_count": 88,
   "metadata": {},
   "outputs": [],
   "source": [
    "def inverse(matrix):\n",
    "    if determinant(matrix) == 0:\n",
    "        raise ValueError('Macierz osobliwa, nie ma macierzy odwrotnej')\n",
    "    n = A.shape[0]\n",
    "    matrix = np.hstack([matrix, np.eye(n)])\n",
    "    \n",
    "    for i in range(n):\n",
    "        max_row = np.argmax(np.abs(matrix[i:, i])) + i\n",
    "        \n",
    "        if max_row != i:\n",
    "            matrix[[i, max_row]] = matrix[[max_row, i]]\n",
    "        \n",
    "        matrix[i] /= matrix[i, i]\n",
    "\n",
    "        for j in range(n):\n",
    "            if j != i:\n",
    "                matrix[j] -= matrix[i] * matrix[j, i]\n",
    "\n",
    "    A_inv = matrix[:, n:]\n",
    "    \n",
    "    return A_inv\n"
   ]
  },
  {
   "cell_type": "markdown",
   "metadata": {},
   "source": [
    "___\n",
    "## Zadanie 4"
   ]
  },
  {
   "cell_type": "code",
   "execution_count": 57,
   "metadata": {},
   "outputs": [
    {
     "name": "stdout",
     "output_type": "stream",
     "text": [
      "Wektor rozwiązań obliczony metodą eliminacji Gaussa to: [ 2. -2.  1.  1. -1.]\n",
      "\n",
      "Wektor rozwiązań uzyskany przez bibliotekę scipy to: [ 2. -2.  1.  1. -1.]\n"
     ]
    }
   ],
   "source": [
    "A = np.array([[0, 0, 2, 1, 2],\n",
    "              [0, 1, 0, 2, -1],\n",
    "              [1, 2, 0, -2, 0],\n",
    "              [0, 0, 0, -1, 1],\n",
    "              [0, 1, -1, 1, -1]], dtype=float)\n",
    "\n",
    "b = np.array([1, 1, -4, -2, -1], dtype=float)\n",
    "\n",
    "\n",
    "print('Wektor rozwiązań obliczony metodą eliminacji Gaussa to:',solution(A,b))\n",
    "\n",
    "print('\\nWektor rozwiązań uzyskany przez bibliotekę scipy to:', solve(A,b))"
   ]
  },
  {
   "cell_type": "markdown",
   "metadata": {},
   "source": [
    "___\n",
    "## Zadanie 5"
   ]
  },
  {
   "cell_type": "markdown",
   "metadata": {},
   "source": [
    "Współczynniki wielomianu $ y = a_0 + a_1 x + a_2 x^2 + a_3 x^3 + a_4 x^4$, który przechodzi przez punkty $(0,1) , (1,1) , (3,3) , (5,2) , (6,-2) $ wyznaczono, poprzez rozwiązanie układu równań: \n",
    "$$\n",
    "\\begin{align*}\n",
    "\\left\\{\n",
    "\\begin{aligned}\n",
    "a_0 &= -1 \\\\\n",
    "a_0 + a_1 + a_2 + a_3 + a_4 &= 1 \\\\\n",
    "a_0 + 3a_1 + 9a_2 + 27a_3 + 81a_4 &= 3 \\\\\n",
    "a_0 + 5a_1 + 25a_2 + 125a_3 + 625a_4 &= 2 \\\\\n",
    "a_0 + 6a_1 + 36a_2 + 216a_3 + 1296a_4 &= -2 \\\\\n",
    "\\end{aligned}\n",
    "\\right.\n",
    "\\end{align*}\n",
    "\n",
    "$$\n",
    "W wersji macierzowej ten układ równań to:\n",
    "$$\n",
    "\\begin{align*}\n",
    "\\begin{bmatrix}\n",
    "1 & 0 & 0 & 0 & 0 \\\\\n",
    "1 & 1 & 1 & 1 & 1 \\\\\n",
    "1 & 3 & 9 & 27 & 81 \\\\\n",
    "1 & 5 & 25 & 125 & 625 \\\\\n",
    "1 & 6 & 36 & 216 & 1296 \\\\\n",
    "\\end{bmatrix}\n",
    "\\begin{bmatrix}\n",
    "a_0 \\\\\n",
    "a_1 \\\\\n",
    "a_2 \\\\\n",
    "a_3 \\\\\n",
    "a_4 \\\\\n",
    "\\end{bmatrix}\n",
    "=\n",
    "\\begin{bmatrix}\n",
    "-1 \\\\\n",
    "1 \\\\\n",
    "3 \\\\\n",
    "2 \\\\\n",
    "-2 \\\\\n",
    "\\end{bmatrix}\n",
    "\\end{align*}\n",
    "\n",
    "$$"
   ]
  },
  {
   "cell_type": "code",
   "execution_count": 58,
   "metadata": {},
   "outputs": [
    {
     "name": "stdout",
     "output_type": "stream",
     "text": [
      "Wektor rozwiązań obliczony metodą eliminacji Gaussa to: [-1.          2.68333333 -0.875       0.21666667 -0.025     ]\n",
      "\n",
      "Wektor rozwiązań uzyskany przez bibliotekę scipy to: [-1.          2.68333333 -0.875       0.21666667 -0.025     ]\n"
     ]
    }
   ],
   "source": [
    "A = np.array([\n",
    "    [1, 0, 0, 0, 0],\n",
    "    [1, 1, 1, 1, 1],\n",
    "    [1, 3, 9, 27, 81],\n",
    "    [1, 5, 25, 125, 625],\n",
    "    [1, 6, 36, 216, 1296]], dtype=float)\n",
    "\n",
    "b = np.array([-1, 1, 3, 2, -2], dtype=float)\n",
    "\n",
    "print('Wektor rozwiązań obliczony metodą eliminacji Gaussa to:',solution(A,b))\n",
    "\n",
    "print('\\nWektor rozwiązań uzyskany przez bibliotekę scipy to:', solve(A,b))"
   ]
  },
  {
   "cell_type": "markdown",
   "metadata": {},
   "source": [
    "Z tego wynika, że współczynniki wielomianu to:\n",
    "$\n",
    "a_0 = -1 ,\n",
    "a_1 \\approx 2.683,\n",
    "a_2 = -0.875,\n",
    "a_3 \\approx 0.217,\n",
    "a_4 = -0.025,\n",
    "$"
   ]
  },
  {
   "cell_type": "markdown",
   "metadata": {},
   "source": [
    "___\n",
    "## Zadanie 6\n"
   ]
  },
  {
   "cell_type": "code",
   "execution_count": 75,
   "metadata": {},
   "outputs": [
    {
     "name": "stdout",
     "output_type": "stream",
     "text": [
      "Wektor rozwiązań obliczony metodą eliminacji Gaussa to: [1. 1. 1. 1.]\n",
      "\n",
      "Wektor rozwiązań uzyskany przez bibliotekę scipy to: [1. 1. 1. 1.]\n",
      "\n",
      "Wyznacznik obliczony metodą eliminacji Gaussa to: -0.22579734000000884\n",
      "\n",
      "Wyznacznik uzyskany przez bibliotekę scipy to: -0.22579733999999008\n",
      "\n",
      "Wynik mnożenia obliczony za pomocą samodzielnej implementacji: [[7.31], [4.23], [13.849999999999998], [11.55]]\n",
      "\n",
      "Wynik mnożenia uzyskany za pomocą biblioteki numpy:\n",
      " [[ 7.31]\n",
      " [ 4.23]\n",
      " [13.85]\n",
      " [11.55]]\n"
     ]
    }
   ],
   "source": [
    "A = np.array([[3.50, 2.77, -0.76, 1.80],\n",
    "              [-1.80, 2.68, 3.44, -0.09],\n",
    "              [0.27, 5.07, 6.90, 1.61],\n",
    "              [1.71, 5.45, 2.68, 1.71]], dtype=float)\n",
    "\n",
    "b = np.array([7.31, 4.23, 13.85, 11.55], dtype=float)\n",
    "\n",
    "print('Wektor rozwiązań obliczony metodą eliminacji Gaussa to:',solution(A,b))\n",
    "\n",
    "print('\\nWektor rozwiązań uzyskany przez bibliotekę scipy to:', solve(A,b))\n",
    "\n",
    "print('\\nWyznacznik obliczony metodą eliminacji Gaussa to:',determinant(A))\n",
    "\n",
    "print('\\nWyznacznik uzyskany przez bibliotekę scipy to:', det(A))\n",
    "\n",
    "x_vector = [[value] for value in solution(A, b)]  \n",
    "\n",
    "print('\\nWynik mnożenia obliczony za pomocą samodzielnej implementacji:', multiply(A, x_vector))\n",
    "print('\\nWynik mnożenia uzyskany za pomocą biblioteki numpy:\\n', np.dot(A,x_vector))\n"
   ]
  },
  {
   "cell_type": "markdown",
   "metadata": {},
   "source": [
    "Wektor rozwiązań równania to: $ \\vec{x} =  [1,1,1,1]$. \n",
    "\n",
    "Wyznacznik macierzy to: $\\text{det}A \\approx -0.226$\n",
    "\n",
    "$A \\vec{x} = \\begin{bmatrix}\n",
    "7.31 \\\\\n",
    "4.23 \\\\\n",
    "13.85 \\\\\n",
    "11.55 \\\\\n",
    "\\end{bmatrix} $\n",
    "\n",
    "Uzyskane rozwiązania nie są całkowicie dokładne. Jest to spowodowane niedokładnościa w interpretacji liczb przez komputer."
   ]
  },
  {
   "cell_type": "markdown",
   "metadata": {},
   "source": [
    "___\n",
    "## Zadanie 7"
   ]
  },
  {
   "cell_type": "code",
   "execution_count": 63,
   "metadata": {},
   "outputs": [
    {
     "name": "stdout",
     "output_type": "stream",
     "text": [
      "Wektor rozwiązań obliczony metodą eliminacji Gaussa to: [-1.  1. -1.  1. -1.  1. -1.  1.]\n",
      "\n",
      "Wektor rozwiązań uzyskany przez bibliotekę scipy to: [-1.  1. -1.  1. -1.  1. -1.  1.]\n"
     ]
    }
   ],
   "source": [
    "A = np.array([[10, -2, -1, 2, 3, 1, -4, 7],\n",
    "              [5, 11, 3, 10, -3, 3, 3, -4],\n",
    "              [7, 12, 1, 5, 3, -12, 2, 3],\n",
    "              [8, 7, -2, 1, 3, 2, 2, 4],\n",
    "              [2, -15, -1, 1, 4, -1, 8, 3],\n",
    "              [4, 2, 9, 1, 12, -1, 4, 1],\n",
    "              [-1, 4, -7, -1, 1, 1, -1, -3],\n",
    "              [-1, 3, 4, 1, 3, -4, 7, 6]], dtype=float)\n",
    "\n",
    "b = np.array([0,12,-5,3,-25,-26,9,-7], dtype=float)\n",
    "\n",
    "print('Wektor rozwiązań obliczony metodą eliminacji Gaussa to:',solution(A,b))\n",
    "\n",
    "print('\\nWektor rozwiązań uzyskany przez bibliotekę scipy to:', solve(A,b))\n"
   ]
  },
  {
   "cell_type": "markdown",
   "metadata": {},
   "source": [
    "$\\vec{x} = [-1, 1, -1, 1, -1, 1, -1, 1]$"
   ]
  },
  {
   "cell_type": "markdown",
   "metadata": {},
   "source": [
    "___\n",
    "## Zadanie 8"
   ]
  },
  {
   "cell_type": "code",
   "execution_count": 89,
   "metadata": {},
   "outputs": [
    {
     "name": "stdout",
     "output_type": "stream",
     "text": [
      "Macierz odwrotna obliczona przez zaimplementowaną metodę Gaussa:\n",
      "[[0.84 0.68 0.52 0.36 0.2  0.04]\n",
      " [0.68 1.36 1.04 0.72 0.4  0.08]\n",
      " [0.52 1.04 1.56 1.08 0.6  0.12]\n",
      " [0.36 0.72 1.08 1.44 0.8  0.16]\n",
      " [0.2  0.4  0.6  0.8  1.   0.2 ]\n",
      " [0.04 0.08 0.12 0.16 0.2  0.24]]\n",
      "\n",
      "Macierz odwrotna uzyskana za pomocą biblioteki scipy:\n",
      "[[0.84 0.68 0.52 0.36 0.2  0.04]\n",
      " [0.68 1.36 1.04 0.72 0.4  0.08]\n",
      " [0.52 1.04 1.56 1.08 0.6  0.12]\n",
      " [0.36 0.72 1.08 1.44 0.8  0.16]\n",
      " [0.2  0.4  0.6  0.8  1.   0.2 ]\n",
      " [0.04 0.08 0.12 0.16 0.2  0.24]]\n"
     ]
    }
   ],
   "source": [
    "A = np.array([[ 2, -1,  0,  0,  0,  0],\n",
    "              [-1,  2, -1,  0,  0,  0],\n",
    "              [ 0, -1,  2, -1,  0,  0],\n",
    "              [ 0,  0, -1,  2, -1,  0],\n",
    "              [ 0,  0,  0, -1,  2, -1],\n",
    "              [ 0,  0,  0,  0, -1,  5]], dtype=float)\n",
    "\n",
    "\n",
    "A_inv = inverse(A)\n",
    "print('Macierz odwrotna obliczona przez zaimplementowaną metodę Gaussa:')\n",
    "print(A_inv)\n",
    "\n",
    "A_inv_scipy = inv(A)\n",
    "print('\\nMacierz odwrotna uzyskana za pomocą biblioteki scipy:')\n",
    "print(A_inv_scipy)\n",
    "\n"
   ]
  },
  {
   "cell_type": "markdown",
   "metadata": {},
   "source": [
    "Macierz $A^{-1}$ jest symetryczna, lecz nie jest trójdiagonalna. Oznacza to, że macierz odwrotna do macierzy trójdiagonalnej nie musi być macierzą trójdiagonalną. "
   ]
  },
  {
   "cell_type": "markdown",
   "metadata": {},
   "source": [
    "___\n",
    "## Zadanie 9"
   ]
  },
  {
   "cell_type": "code",
   "execution_count": 90,
   "metadata": {},
   "outputs": [
    {
     "name": "stdout",
     "output_type": "stream",
     "text": [
      "Macierz odwrotna obliczona przez zaimplementowaną metodę Gaussa:\n",
      "[[-2.22649869e+15 -2.22649869e+15 -2.22649869e+15 -4.45299738e+15\n",
      "   4.45299738e+15]\n",
      " [-1.05758688e+16 -1.05758688e+16 -1.05758688e+16 -2.11517376e+16\n",
      "   2.11517376e+16]\n",
      " [-1.77107851e+15 -1.77107851e+15 -1.77107851e+15 -3.54215701e+15\n",
      "   3.54215701e+15]\n",
      " [ 0.00000000e+00  0.00000000e+00  1.00000000e+00  1.00000000e+00\n",
      "  -1.00000000e+00]\n",
      " [ 4.50359963e+15  4.50359963e+15  4.50359963e+15  9.00719925e+15\n",
      "  -9.00719925e+15]]\n",
      "\n",
      "Macierz odwrotna uzyskana za pomocą biblioteki scipy:\n",
      "[[-5.56624673e+14 -5.56624673e+14 -5.56624673e+14 -1.11324935e+15\n",
      "   1.11324935e+15]\n",
      " [-2.64396720e+15 -2.64396720e+15 -2.64396720e+15 -5.28793439e+15\n",
      "   5.28793439e+15]\n",
      " [-4.42769626e+14 -4.42769626e+14 -4.42769626e+14 -8.85539253e+14\n",
      "   8.85539253e+14]\n",
      " [-2.50000000e-01 -2.50000000e-01  7.50000000e-01  5.00000000e-01\n",
      "  -5.00000000e-01]\n",
      " [ 1.12589991e+15  1.12589991e+15  1.12589991e+15  2.25179981e+15\n",
      "  -2.25179981e+15]]\n"
     ]
    }
   ],
   "source": [
    "A = np.array([[1, 3, -9, 6, 4],\n",
    "              [2, -1, 6, 7, 1],\n",
    "              [3, 2, -3, 15, 5],\n",
    "              [8, -1, 1, 4, 2],\n",
    "              [11, 1, -2, 18, 7]], dtype=float)\n",
    "\n",
    "\n",
    "A_inv = inverse(A)\n",
    "print('Macierz odwrotna obliczona przez zaimplementowaną metodę Gaussa:')\n",
    "print(A_inv)\n",
    "\n",
    "A_inv_scipy = inv(A)\n",
    "print('\\nMacierz odwrotna uzyskana za pomocą biblioteki scipy:')\n",
    "print(A_inv_scipy)\n",
    "\n"
   ]
  },
  {
   "cell_type": "markdown",
   "metadata": {},
   "source": [
    "Rozwiązanie w tym zadaniu nie jest poprawne, ponieważ niedokładność w zapisywaniu wartości przez komputer, powoduje, że program nie uzyskuje dokładnego  wyniku wyznacznika, czyli 0, lecz liczbę bardzo bliską tej wartości. Powoduje to błędne wyliczenie macierzy odwrotnej, która dla tego konkretnego przypadku nie istnieje, ponieważ macierz A jest osobliwa."
   ]
  }
 ],
 "metadata": {
  "kernelspec": {
   "display_name": "Python 3",
   "language": "python",
   "name": "python3"
  },
  "language_info": {
   "codemirror_mode": {
    "name": "ipython",
    "version": 3
   },
   "file_extension": ".py",
   "mimetype": "text/x-python",
   "name": "python",
   "nbconvert_exporter": "python",
   "pygments_lexer": "ipython3",
   "version": "3.10.8"
  }
 },
 "nbformat": 4,
 "nbformat_minor": 2
}
