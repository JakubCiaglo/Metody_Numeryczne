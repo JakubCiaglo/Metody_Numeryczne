{
 "cells": [
  {
   "cell_type": "markdown",
   "metadata": {},
   "source": [
    "___\n",
    "# Importy\n"
   ]
  },
  {
   "cell_type": "code",
   "execution_count": 1,
   "metadata": {},
   "outputs": [],
   "source": [
    "import numpy as np\n",
    "from scipy.optimize import bisect, brentq, newton, root_scalar, newton_krylov\n",
    "from scipy.linalg import norm, solve\n",
    "import pandas as pd\n",
    "import matplotlib.pyplot as plt"
   ]
  },
  {
   "cell_type": "markdown",
   "metadata": {},
   "source": [
    "___\n",
    "# Zadanie 1\n",
    "Wszystkie zaimplementowane metody posłużą do obliczenia pierwiastków równania:\n",
    "$$ \\tg{(\\pi - x)} -x = 0 $$\n",
    "Pochoda funkcji z tego równania to:\n",
    "$$ \\frac{df}{dx} = \\frac{-1}{\\cos^2{(\\pi - x)}} - 1 = \\frac{-1}{\\cos^2{x}} - 1$$"
   ]
  },
  {
   "cell_type": "code",
   "execution_count": 27,
   "metadata": {},
   "outputs": [],
   "source": [
    "def function(x): return np.tan(np.pi - x) - x\n",
    "def derivative(x): return (-1/(np.cos(x)**2)) - 1"
   ]
  },
  {
   "cell_type": "markdown",
   "metadata": {},
   "source": [
    "## Metoda Bisekcji\n",
    "Zaimplementowana funkcja sprawdza, czy funkcja zmienia znak na końcach przedziału. W każdej iteracji oblicza środek przedziału, sprawdzając, czy w tym punkcie funkcja ma wartość równą zero, lub zmienia przedział na połowę, w której funkcja zmienia znak. Iteracje trwają aż do spełnienia warunku tolerancji lub osiągnięcia maksymalnej liczby iteracji. Funkcja zwraca przybliżony pierwiastek oraz liczbę iteracji i operacji arytmetycznych wykonanych w trakcie obliczeń."
   ]
  },
  {
   "cell_type": "code",
   "execution_count": 28,
   "metadata": {},
   "outputs": [],
   "source": [
    "def bisection(func, a, b, tol, max_iter=1000):\n",
    "\n",
    "    iter_count = 0\n",
    "    mult_count = 0\n",
    "    add_count = 0\n",
    "    if func(a) * func(b) >= 0:\n",
    "        raise ValueError('Funkcja musi mieć różne znaki na końcach przedziału [a, b].')\n",
    "    add_count += 4\n",
    "    mult_count += 1\n",
    "\n",
    "    while (b - a) / 2 > tol and iter_count < max_iter:\n",
    "        iter_count += 1\n",
    "        add_count += 1\n",
    "        mult_count +=1\n",
    "\n",
    "        c = (a + b) / 2  \n",
    "        fa = func(a)\n",
    "        fc = func(c)\n",
    "        add_count += 5\n",
    "        mult_count +=1\n",
    "\n",
    "        if fc == 0:  \n",
    "            return c, iter_count, mult_count, add_count\n",
    "        elif fa * fc < 0:\n",
    "            b = c  \n",
    "        else:\n",
    "            a = c  \n",
    "        mult_count += 1\n",
    "\n",
    "    x = (a + b) / 2  \n",
    "    add_count += 1  \n",
    "    mult_count += 1  \n",
    "\n",
    "    return x, iter_count, mult_count, add_count\n"
   ]
  },
  {
   "cell_type": "markdown",
   "metadata": {},
   "source": [
    "## Metoda Brenta\n",
    "Zaimplementowana funkcja najpierw sprawdza, czy funkcja zmienia znak na końcach przedziału. W każdej iteracji oblicza możliwy pierwiastek, stosując odpowiednie wzory w zależności od tego, które wartości funkcji są różne od zera. Jeśli obliczony pierwiastek leży poza przedziałem, stosuje średnią arytmetyczną z końców przedziału. Iteracje trwają aż do osiągnięcia wymaganego przybliżenia lub maksymalnej liczby iteracji. Funkcja zwraca przybliżony pierwiastek oraz liczbę iteracji i operacji arytmetycznych."
   ]
  },
  {
   "cell_type": "code",
   "execution_count": 29,
   "metadata": {},
   "outputs": [],
   "source": [
    "def brent_method(func, a, b, tol, max_iter=1000):\n",
    "\n",
    "    mult_count = 0\n",
    "    add_count = 0\n",
    "\n",
    "    fa = func(a)\n",
    "    fb = func(b)\n",
    "    add_count += 4 \n",
    "\n",
    "    if fa * fb >= 0:\n",
    "        raise ValueError('Funkcja musi mieć różne znaki na końcach przedziału [a, b].')\n",
    "    mult_count += 1\n",
    "\n",
    "    c, fc = a, fa\n",
    "    iter_count = 0\n",
    "\n",
    "    for _ in range(max_iter):\n",
    "        iter_count += 1\n",
    "\n",
    "        if fa != fc and fb != fc:\n",
    "            term1 = a * fb * fc * (fb - fc)\n",
    "            term2 = b * fc * fa * (fc - fa)\n",
    "            term3 = c * fa * fb * (fa - fb)\n",
    "            numerator = -(term1 + term2 + term3)\n",
    "            denominator = (fa - fb) * (fb - fc) * (fc - fa)\n",
    "            s = numerator / denominator\n",
    "\n",
    "            mult_count += 12  \n",
    "            add_count += 9    \n",
    "        else:\n",
    "            s = (a + b)/2\n",
    "            add_count += 1  \n",
    "            mult_count += 1 \n",
    "\n",
    "        if not (min(a, b) < s < max(a, b)):\n",
    "            s = (a + b) / 2\n",
    "            add_count += 1 \n",
    "            mult_count += 1  \n",
    "\n",
    "\n",
    "        fs = func(s)\n",
    "        add_count += 2  \n",
    "        if fs == 0:\n",
    "            return s, iter_count, add_count, mult_count\n",
    "        c, fc = b, fb\n",
    "        if fa * fs < 0:\n",
    "            b, fb = s, fs\n",
    "        else:\n",
    "            a, fa = s, fs\n",
    "        mult_count +=1\n",
    "\n",
    "        if abs(fa) < abs(fb):\n",
    "            a, b = b, a\n",
    "            fa, fb = fb, fa\n",
    "\n",
    "        add_count += 1 # do ostatniego warunku\n",
    "        if abs(b - a) < tol or abs(fs) < tol:\n",
    "            add_count += 1\n",
    "            return s, iter_count, mult_count, add_count\n",
    "\n",
    "    raise ValueError('Metoda Brenta nie zbiega się w zadanej liczbie iteracji.')\n"
   ]
  },
  {
   "cell_type": "markdown",
   "metadata": {},
   "source": [
    "## Metoda siecznych\n",
    "Funkcja w każdej iteracji oblicza nową wartość przybliżoną, korzystając ze wzoru, który uwzględnia wartości funkcji na dwóch poprzednich punktach. Iteracje są kontynuowane, aż różnica między kolejnymi przybliżeniami lub wartość funkcji osiągnie wymagany poziom dokładności. Jeśli różnica między funkcjami w punktach jest zbyt mała, co prowadziłoby do dzielenia przez zero, zgłaszany jest błąd. Funkcja zwraca przybliżony pierwiastek oraz liczbę iteracji i operacji arytmetycznych."
   ]
  },
  {
   "cell_type": "code",
   "execution_count": 30,
   "metadata": {},
   "outputs": [],
   "source": [
    "def secant_method(func, a, b, tol, max_iter=1000):\n",
    "\n",
    "    iter_count = 0\n",
    "    mult_count = 0\n",
    "    add_count = 0\n",
    "\n",
    "    fa = func(a)\n",
    "    fb = func(b)\n",
    "    add_count += 4 \n",
    "\n",
    "    for _ in range(max_iter):\n",
    "        iter_count += 1\n",
    "\n",
    "        if abs(fb - fa) < 1e-14:\n",
    "            raise ValueError('Dzielenie przez zero')\n",
    "        add_count += 1\n",
    "        c = b - fb * (b - a) / (fb - fa)\n",
    "        mult_count += 2\n",
    "        add_count += 3\n",
    "        fc = func(c)\n",
    "        add_count += 3 # do poniższego warunku i wywołania funkcji dla c\n",
    "        if abs(c - b) < tol or abs(fc) < tol: \n",
    "            return c, iter_count, mult_count, add_count\n",
    "\n",
    "        a, b = b, c\n",
    "        fa, fb = fb, fc \n",
    "\n",
    "    raise ValueError('Metoda siecznych nie zbiega się w zadanej liczbie iteracji.')\n"
   ]
  },
  {
   "cell_type": "markdown",
   "metadata": {},
   "source": [
    "## Metoda Newtona\n",
    "Zaimplementowana funkcja w każdej iteracji obliczana jest nowa wartość przybliżona, korzystając ze wzoru $ x_{\\text{new}} = x - \\frac{f(x)}{f'(x)} $. Iteracje są kontynuowane, aż różnica między kolejnymi przybliżeniami lub wartość funkcji osiągną zadaną tolerancję. Jeśli pochodna jest zbyt bliska zeru, zgłaszany jest błąd. Funkcja zwraca przybliżony pierwiastek oraz liczbę iteracji i operacji arytmetycznych."
   ]
  },
  {
   "cell_type": "code",
   "execution_count": 31,
   "metadata": {},
   "outputs": [],
   "source": [
    "def newton_method(func, dfunc, x0, tol, max_iter=1000):\n",
    "\n",
    "    iter_count = 0\n",
    "    mult_count = 0\n",
    "    add_count = 0\n",
    "    x = x0\n",
    "\n",
    "    for _ in range(max_iter):\n",
    "        iter_count += 1\n",
    "\n",
    "        fx = func(x)\n",
    "        dfx = dfunc(x)\n",
    "        add_count += 4  \n",
    "        mult_count += 3\n",
    "\n",
    "        if abs(dfx) < 1e-14:\n",
    "            raise ValueError('Pochodna jest zbyt bliska zeru')\n",
    "\n",
    "        x_new = x - fx / dfx\n",
    "        mult_count += 1\n",
    "        add_count += 1\n",
    "\n",
    "        add_count += 1 # dla ponizszego warunku\n",
    "        if abs(x_new - x) < tol or abs(fx) < tol:\n",
    "            return x_new, iter_count, mult_count, add_count\n",
    "\n",
    "        x = x_new\n",
    "\n",
    "    raise ValueError('Metoda Newtona nie zbiega się w zadanej liczbie iteracji.')\n"
   ]
  },
  {
   "cell_type": "markdown",
   "metadata": {},
   "source": [
    "Wszystkie metody są testowane dla punktów startowych $a = 1.9$, $b = 2.7$ oraz tolerancji $10^{-4}$. Następnie wywoływane są metody zaimplementowane w SciPy w celu porównania wyników. Na koniec tworzona jest tabela z wynikami."
   ]
  },
  {
   "cell_type": "code",
   "execution_count": 32,
   "metadata": {},
   "outputs": [
    {
     "data": {
      "text/html": [
       "<style type=\"text/css\">\n",
       "#T_e9d6c thead th {\n",
       "  background-color: gray;\n",
       "  border: 1px solid white;\n",
       "}\n",
       "#T_e9d6c tbody td {\n",
       "  border: 1px solid white;\n",
       "}\n",
       "#T_e9d6c table {\n",
       "  border-collapse: collapse;\n",
       "  width: 100%;\n",
       "  border: 1px solid white;\n",
       "}\n",
       "#T_e9d6c tr:nth-child(even) {\n",
       "  background-color: gray;\n",
       "}\n",
       "</style>\n",
       "<table id=\"T_e9d6c\">\n",
       "  <thead>\n",
       "    <tr>\n",
       "      <th id=\"T_e9d6c_level0_col0\" class=\"col_heading level0 col0\" ></th>\n",
       "      <th id=\"T_e9d6c_level0_col1\" class=\"col_heading level0 col1\" >Bisekcja</th>\n",
       "      <th id=\"T_e9d6c_level0_col2\" class=\"col_heading level0 col2\" >Bisekcja (SciPy)</th>\n",
       "      <th id=\"T_e9d6c_level0_col3\" class=\"col_heading level0 col3\" >Metoda Brenta</th>\n",
       "      <th id=\"T_e9d6c_level0_col4\" class=\"col_heading level0 col4\" >Brent (SciPy)</th>\n",
       "      <th id=\"T_e9d6c_level0_col5\" class=\"col_heading level0 col5\" >Metoda Siecznych</th>\n",
       "      <th id=\"T_e9d6c_level0_col6\" class=\"col_heading level0 col6\" >Sieczne (SciPy)</th>\n",
       "      <th id=\"T_e9d6c_level0_col7\" class=\"col_heading level0 col7\" >Metoda Newtona</th>\n",
       "      <th id=\"T_e9d6c_level0_col8\" class=\"col_heading level0 col8\" >Newton (SciPy)</th>\n",
       "    </tr>\n",
       "  </thead>\n",
       "  <tbody>\n",
       "    <tr>\n",
       "      <td id=\"T_e9d6c_row0_col0\" class=\"data row0 col0\" >x</td>\n",
       "      <td id=\"T_e9d6c_row0_col1\" class=\"data row0 col1\" >2.028809</td>\n",
       "      <td id=\"T_e9d6c_row0_col2\" class=\"data row0 col2\" >2.028809</td>\n",
       "      <td id=\"T_e9d6c_row0_col3\" class=\"data row0 col3\" >2.028806</td>\n",
       "      <td id=\"T_e9d6c_row0_col4\" class=\"data row0 col4\" >2.028749</td>\n",
       "      <td id=\"T_e9d6c_row0_col5\" class=\"data row0 col5\" >2.028758</td>\n",
       "      <td id=\"T_e9d6c_row0_col6\" class=\"data row0 col6\" >2.028758</td>\n",
       "      <td id=\"T_e9d6c_row0_col7\" class=\"data row0 col7\" >2.028758</td>\n",
       "      <td id=\"T_e9d6c_row0_col8\" class=\"data row0 col8\" >2.028758</td>\n",
       "    </tr>\n",
       "    <tr>\n",
       "      <td id=\"T_e9d6c_row1_col0\" class=\"data row1 col0\" >f(x)</td>\n",
       "      <td id=\"T_e9d6c_row1_col1\" class=\"data row1 col1\" >-0.000310</td>\n",
       "      <td id=\"T_e9d6c_row1_col2\" class=\"data row1 col2\" >-0.000310</td>\n",
       "      <td id=\"T_e9d6c_row1_col3\" class=\"data row1 col3\" >-0.000292</td>\n",
       "      <td id=\"T_e9d6c_row1_col4\" class=\"data row1 col4\" >0.000053</td>\n",
       "      <td id=\"T_e9d6c_row1_col5\" class=\"data row1 col5\" >-0.000003</td>\n",
       "      <td id=\"T_e9d6c_row1_col6\" class=\"data row1 col6\" >-0.000000</td>\n",
       "      <td id=\"T_e9d6c_row1_col7\" class=\"data row1 col7\" >0.000000</td>\n",
       "      <td id=\"T_e9d6c_row1_col8\" class=\"data row1 col8\" >0.000000</td>\n",
       "    </tr>\n",
       "    <tr>\n",
       "      <td id=\"T_e9d6c_row2_col0\" class=\"data row2 col0\" >Iteracje</td>\n",
       "      <td id=\"T_e9d6c_row2_col1\" class=\"data row2 col1\" >12.000000</td>\n",
       "      <td id=\"T_e9d6c_row2_col2\" class=\"data row2 col2\" >N/A</td>\n",
       "      <td id=\"T_e9d6c_row2_col3\" class=\"data row2 col3\" >11.000000</td>\n",
       "      <td id=\"T_e9d6c_row2_col4\" class=\"data row2 col4\" >N/A</td>\n",
       "      <td id=\"T_e9d6c_row2_col5\" class=\"data row2 col5\" >6.000000</td>\n",
       "      <td id=\"T_e9d6c_row2_col6\" class=\"data row2 col6\" >N/A</td>\n",
       "      <td id=\"T_e9d6c_row2_col7\" class=\"data row2 col7\" >5.000000</td>\n",
       "      <td id=\"T_e9d6c_row2_col8\" class=\"data row2 col8\" >N/A</td>\n",
       "    </tr>\n",
       "    <tr>\n",
       "      <td id=\"T_e9d6c_row3_col0\" class=\"data row3 col0\" >Liczba mnożeń</td>\n",
       "      <td id=\"T_e9d6c_row3_col1\" class=\"data row3 col1\" >38.000000</td>\n",
       "      <td id=\"T_e9d6c_row3_col2\" class=\"data row3 col2\" >N/A</td>\n",
       "      <td id=\"T_e9d6c_row3_col3\" class=\"data row3 col3\" >45.000000</td>\n",
       "      <td id=\"T_e9d6c_row3_col4\" class=\"data row3 col4\" >N/A</td>\n",
       "      <td id=\"T_e9d6c_row3_col5\" class=\"data row3 col5\" >12.000000</td>\n",
       "      <td id=\"T_e9d6c_row3_col6\" class=\"data row3 col6\" >N/A</td>\n",
       "      <td id=\"T_e9d6c_row3_col7\" class=\"data row3 col7\" >20.000000</td>\n",
       "      <td id=\"T_e9d6c_row3_col8\" class=\"data row3 col8\" >N/A</td>\n",
       "    </tr>\n",
       "    <tr>\n",
       "      <td id=\"T_e9d6c_row4_col0\" class=\"data row4 col0\" >Liczba dodawań</td>\n",
       "      <td id=\"T_e9d6c_row4_col1\" class=\"data row4 col1\" >77.000000</td>\n",
       "      <td id=\"T_e9d6c_row4_col2\" class=\"data row4 col2\" >N/A</td>\n",
       "      <td id=\"T_e9d6c_row4_col3\" class=\"data row4 col3\" >65.000000</td>\n",
       "      <td id=\"T_e9d6c_row4_col4\" class=\"data row4 col4\" >N/A</td>\n",
       "      <td id=\"T_e9d6c_row4_col5\" class=\"data row4 col5\" >46.000000</td>\n",
       "      <td id=\"T_e9d6c_row4_col6\" class=\"data row4 col6\" >N/A</td>\n",
       "      <td id=\"T_e9d6c_row4_col7\" class=\"data row4 col7\" >30.000000</td>\n",
       "      <td id=\"T_e9d6c_row4_col8\" class=\"data row4 col8\" >N/A</td>\n",
       "    </tr>\n",
       "  </tbody>\n",
       "</table>\n"
      ],
      "text/plain": [
       "<pandas.io.formats.style.Styler at 0x1c39a9b9400>"
      ]
     },
     "execution_count": 32,
     "metadata": {},
     "output_type": "execute_result"
    }
   ],
   "source": [
    "a = 1.9\n",
    "b = 2.7\n",
    "tol = 1e-4\n",
    "x0 = (a+b)/2\n",
    "\n",
    "methods = {\n",
    "    'Bisekcja': bisection(function, a, b, tol),\n",
    "    'Bisekcja (SciPy)': bisect(function, a, b, xtol=tol),\n",
    "    'Metoda Brenta': brent_method(function, a, b, tol),\n",
    "    'Brent (SciPy)': brentq(function, a, b, xtol=tol),\n",
    "    'Metoda Siecznych': secant_method(function, a, b, tol),\n",
    "    'Sieczne (SciPy)': root_scalar(function, method='secant', bracket=[a, b], xtol=tol, x0=x0).root,\n",
    "    'Metoda Newtona': newton_method(function, derivative, x0, tol),\n",
    "    'Newton (SciPy)': newton(function, x0, fprime=derivative, tol=tol),\n",
    "}\n",
    "\n",
    "\n",
    "results = {'': ['x', 'f(x)', 'Iteracje', 'Liczba mnożeń', 'Liczba dodawań']}\n",
    "\n",
    "for method_name, result in methods.items():\n",
    "    if isinstance(result, tuple):  \n",
    "        x, iterations, mult_count, add_count = result\n",
    "        fx = function(x)\n",
    "        results[method_name] = [x, fx, iterations, mult_count, add_count]\n",
    "    else:  \n",
    "        x = result\n",
    "        fx = function(x)\n",
    "        results[method_name] = [x, fx, 'N/A', 'N/A','N/A'] \n",
    "\n",
    "df = pd.DataFrame(results)\n",
    "styled_df = df.style.set_table_styles([{'selector': 'thead th', 'props': [('background-color', 'gray'), ('border', '1px solid white')]},\n",
    "        {'selector': 'tbody td', 'props': [('border', '1px solid white')]},\n",
    "        {'selector': 'table', 'props': [('border-collapse', 'collapse'), ('width', '100%'), ('border', '1px solid white')]},\n",
    "        {'selector': 'tr:nth-child(even)', 'props': [('background-color', 'gray')]}]).hide(axis=\"index\")\n",
    "styled_df"
   ]
  },
  {
   "cell_type": "markdown",
   "metadata": {},
   "source": [
    "___\n",
    "# Zadanie 2"
   ]
  },
  {
   "cell_type": "code",
   "execution_count": 33,
   "metadata": {},
   "outputs": [
    {
     "data": {
      "image/png": "[encoded data removed]",
      "text/plain": [
       "<Figure size 1000x600 with 1 Axes>"
      ]
     },
     "metadata": {},
     "output_type": "display_data"
    },
    {
     "name": "stdout",
     "output_type": "stream",
     "text": [
      "Pierwiastek wyznaczony przez samodzielnie zaimplementowaną metodę Newtona: 10.995607838001671\n",
      "Pierwiastek wyznaczony przez metodę zaimplementowaną w SciPy: 10.995607838001671\n"
     ]
    }
   ],
   "source": [
    "def f(x): return np.cosh(x) * np.cos(x) - 1\n",
    "\n",
    "def f_derivative(x): return np.cosh(x) * (-np.sin(x)) + np.cosh(x) * np.cos(x)\n",
    "\n",
    "x_vals = np.linspace(4, 8, 1000)\n",
    "y_vals = f(x_vals)\n",
    "\n",
    "plt.figure(figsize=(10, 6))\n",
    "plt.plot(x_vals, y_vals, color='b')\n",
    "plt.axhline(0, color='purple')\n",
    "plt.axvline(4, color='red', linestyle = '--')\n",
    "plt.axvline(5, color='red', linestyle = '--')\n",
    "plt.xlabel('x')\n",
    "plt.ylabel('f(x)')\n",
    "plt.title('Wykres funkcji f(x) = cosh(x) cos(x) - 1')\n",
    "plt.grid(True)\n",
    "plt.show()\n",
    "\n",
    "x0 = 4\n",
    "tol = 1e-16\n",
    "x, _, _, _ = newton_method(f, f_derivative, x0,tol)\n",
    "x_scipy = newton(f, x0, f_derivative, tol=tol) \n",
    "print(f'Pierwiastek wyznaczony przez samodzielnie zaimplementowaną metodę Newtona: {x}')\n",
    "print(f'Pierwiastek wyznaczony przez metodę zaimplementowaną w SciPy: {x_scipy}')\n"
   ]
  },
  {
   "cell_type": "markdown",
   "metadata": {},
   "source": [
    "Analizując wykres możemy zauważyć, że pierwiastek znajduje się w przedziale $x \\in [4,5] $. Wynik wyznaczony przez metodę Newtona wskazuje jednak, że pierwiastek to $10,995$. "
   ]
  },
  {
   "cell_type": "markdown",
   "metadata": {},
   "source": [
    "___\n",
    "# Zadanie 3\n",
    " Funkcja `velocity(t)` modeluje prędkość rakiety w zależności od czasu, a `f(t)` to różnica między prędkością rakiety a prędkością dźwięku. Metoda Brenta znajduje pierwiastek tej funkcji w przedziale $ t \\in [0, 150] $."
   ]
  },
  {
   "cell_type": "code",
   "execution_count": 34,
   "metadata": {},
   "outputs": [
    {
     "name": "stdout",
     "output_type": "stream",
     "text": [
      "Wynik uzyskany za pomocą metody Brenta zaimplementowanej samodzielnie: t = 70.877972379466\n",
      "Wynik uzyskany za pomocą metody Brenaa zaimplementowanej w pakiecie SciPy: t = 70.87797227046728\n"
     ]
    }
   ],
   "source": [
    "u = 2510  \n",
    "M0 = 2.8e6  \n",
    "mdot = 13.3e3  \n",
    "g = 9.81  \n",
    "v_target = 335  \n",
    "a = 0\n",
    "b = 150\n",
    "\n",
    "def velocity(t): return u * np.log(M0 / (M0 - mdot * t)) - g * t\n",
    "\n",
    "def f(t): return velocity(t) - v_target\n",
    "\n",
    "t_brent, _ , _ , _ = brent_method(f, a, b, tol=1e-6)\n",
    "\n",
    "t_scipy = brentq(f, a, b, xtol=1e-6)\n",
    "\n",
    "print(f'Wynik uzyskany za pomocą metody Brenta zaimplementowanej samodzielnie: t = {t_brent}')\n",
    "print(f'Wynik uzyskany za pomocą metody Brenaa zaimplementowanej w pakiecie SciPy: t = {t_scipy}')\n"
   ]
  },
  {
   "cell_type": "markdown",
   "metadata": {},
   "source": [
    "Czas, po którym rakieta osiągnie prędkość dźwięku to około $70,88$ sekundy."
   ]
  },
  {
   "cell_type": "markdown",
   "metadata": {},
   "source": [
    "___\n",
    "# Zadanie 4\n",
    "Funkcja `gibbs_energy(T)` oblicza wartość energii Gibbsa, a `f(T)` to różnica między tą wartością a zadanym $ G_{\\text{target}} $. Metoda Brenta znajduje pierwiastek tej funkcji w przedziale $ T \\in [5, 1000] $."
   ]
  },
  {
   "cell_type": "code",
   "execution_count": 35,
   "metadata": {},
   "outputs": [
    {
     "name": "stdout",
     "output_type": "stream",
     "text": [
      "Wynik uzyskany za pomocą metody Brenta zaimplementowanej samodzielnie: T = 904.9425824778154\n",
      "Wynik uzyskany za pomocą metody Brenaa zaimplementowanej w pakiecie SciPy: T = 904.9425832327784\n"
     ]
    }
   ],
   "source": [
    "R = 8.31441  \n",
    "T0 = 4.44418  \n",
    "G_target = -1e5 \n",
    "\n",
    "def gibbs_energy(T): return -R * T * np.log((T / T0) ** (5 / 2)) \n",
    "def f(T): return gibbs_energy(T) - G_target\n",
    "\n",
    "T_min = 5  \n",
    "T_max = 1000  \n",
    "\n",
    "T_brent, _ , _ , _ = brent_method(f, T_min, T_max, tol=1e-6)\n",
    "T_scipy = brentq(f, T_min, T_max, xtol=1e-6)\n",
    "\n",
    "print(f'Wynik uzyskany za pomocą metody Brenta zaimplementowanej samodzielnie: T = {T_brent}')\n",
    "print(f'Wynik uzyskany za pomocą metody Brenaa zaimplementowanej w pakiecie SciPy: T = {T_scipy}')\n"
   ]
  },
  {
   "cell_type": "markdown",
   "metadata": {},
   "source": [
    "Temperatura, dla której energia Gibbsa osiąga pożądaną wartość to $ 904,94 K$."
   ]
  },
  {
   "cell_type": "markdown",
   "metadata": {},
   "source": [
    "___\n",
    "# Zadanie 5\n",
    "Zaimplementowana metoda Newtona dla układu równań nieliniowych najpierw obliczane są wartości funkcji i Jacobianu w danym punkcie. Następnie rozwiązywany jest układ równań liniowych $ J \\Delta x = -\\vec{F(x)} $, gdzie $ J $ to macierz Jacobiego, a $ \\vec{F(x)} $ to wektor funkcji. Nowe przybliżenie pierwiastka jest obliczane jako $ x_{\\text{next}} = x_{\\text{current}} + \\Delta x $. Proces powtarza się aż do osiągnięcia wymaganej tolerancji lub maksymalnej liczby iteracji. Metoda zostanie użyta dla układu równań:\n",
    "$$\n",
    "\n",
    "\\left\\{\n",
    "\\begin{aligned}\n",
    "\\tan(x) - y &= 1, \\\\\n",
    "\\cos(x) - 3 \\sin(y) &= 0\n",
    "\\end{aligned}\n",
    "\\right.\n",
    "\n",
    "$$"
   ]
  },
  {
   "cell_type": "code",
   "execution_count": null,
   "metadata": {},
   "outputs": [
    {
     "name": "stdout",
     "output_type": "stream",
     "text": [
      "Rozwiązanie układu równań wyznaczone samodzielnie zaimplementowaną metodą Newtona: [0.88159259 0.21359471]\n",
      "Rozwiązanie układu równań wyznaczone zaimplementowaną w SciPy metodą Newtona: [0.88159272 0.21359469]\n"
     ]
    }
   ],
   "source": [
    "def equations(vars):\n",
    "    x, y = vars\n",
    "    eq1 = np.tan(x) - y - 1\n",
    "    eq2 = np.cos(x) - 3 * np.sin(y)\n",
    "    return np.array([eq1, eq2])\n",
    "\n",
    "def jacobian(vars):\n",
    "    x, y = vars\n",
    "    dfdx1 = 1/np.cos(x)**2  # Pochodna po x dla eq1\n",
    "    dfdy1 = -1           # Pochodna po y dla eq1\n",
    "    dfdx2 = -np.sin(x)   # Pochodna po x dla eq2\n",
    "    dfdy2 = -3 * np.cos(y)  # Pochodna po y dla eq2\n",
    "    return np.array([[dfdx1, dfdy1], [dfdx2, dfdy2]])\n",
    "\n",
    "def newton_system_method(F, J, x_initials, tol=1e-6, max_iter=100):\n",
    "    x_current = np.array(x_initials, dtype=float)\n",
    "\n",
    "    for _ in range(max_iter):\n",
    "        F_current = F(x_current)\n",
    "        J_current = J(x_current)\n",
    "\n",
    "        try:\n",
    "            delta = solve(J_current, -F_current)\n",
    "        except np.linalg.LinAlgError:\n",
    "            raise ValueError('Macierz Jacobiego jest osobliwa. Zmień wybór punktów początkowych.')\n",
    "\n",
    "        x_next = x_current + delta\n",
    "\n",
    "        if norm(delta, ord=2) < tol:\n",
    "            return x_next\n",
    "\n",
    "        x_current = x_next\n",
    "\n",
    "    raise ValueError('Metoda Newtona nie zbiega w zadanej liczbie iteracji')\n",
    "\n",
    "x_initials = np.array([0.5, 0.5])\n",
    "\n",
    "solution = newton_system_method(equations, jacobian, x_initials, tol=1e-4, max_iter=1000)\n",
    "solution_scipy = newton_krylov(equations, x_initials)\n",
    "print('Rozwiązanie układu równań wyznaczone samodzielnie zaimplementowaną metodą Newtona:', solution)\n",
    "print('Rozwiązanie układu równań wyznaczone zaimplementowaną w SciPy metodą Newtona:', solution_scipy)\n"
   ]
  },
  {
   "cell_type": "markdown",
   "metadata": {},
   "source": [
    "Uzyskane rozwiązanie to: $x = 0,882$ i $y = 0,214$"
   ]
  },
  {
   "cell_type": "markdown",
   "metadata": {},
   "source": [
    "___\n",
    "# Zadanie 6\n",
    "Zaimplementowana metoda Laguerre'a w każdej iteracji, zaczynając od początkowego przybliżenia $ z_0 $, obliczane są wartość wielomianu oraz jego pierwsza i druga pochodna. Następnie, na podstawie tych wartości, obliczany jest nowy punkt przybliżenia. Proces powtarza się, aż osiągnięta zostanie wymagana dokładność lub maksymalna liczba iteracji. Dodatkowo, funkcja `roots_laguerre` znajduje wszystkie pierwiastki wielomianu, usuwając je iteracyjnie z wielomianu poprzez deflację. Metoda zostanie wykorzystana, aby obliczyć pierwiastki wielomianu: $$ W(x) = x^4 + (5 + i)x^3 − (8 − 5i)x^2 + (30 − 14i)x − 84 $$"
   ]
  },
  {
   "cell_type": "code",
   "execution_count": 2,
   "metadata": {},
   "outputs": [
    {
     "name": "stdout",
     "output_type": "stream",
     "text": [
      "Pierwiastki wielomianu wyznaczone metodą Laguerra zaimplementowaną samodzielnie:\n",
      "(5.831668919228723e-17+2j)\n",
      "(2+1.4423816350483375e-17j)\n",
      "-3j\n",
      "(-7+0j)\n",
      "\n",
      "Pierwiastki wielomianu wyznaczone metodą zaimplementowaną w SciPy:\n",
      "(-7.000000000000002+0j)\n",
      "(5.851883817201576e-16-2.9999999999999942j)\n",
      "(1.999999999999997+3.5038630692924374e-16j)\n",
      "(3.103219225443062e-16+1.9999999999999996j)\n"
     ]
    }
   ],
   "source": [
    "def laguerre_method(poly_coeffs, z0, tol=1e-16, max_iter=1000):\n",
    "\n",
    "    n = len(poly_coeffs) - 1  \n",
    "    p = np.poly1d(poly_coeffs)  \n",
    "    dp = p.deriv(1) \n",
    "    ddp = p.deriv(2) \n",
    "\n",
    "    z = z0\n",
    "    for _ in range(max_iter):\n",
    "        p_val = p(z)\n",
    "        dp_val = dp(z)\n",
    "        ddp_val = ddp(z)\n",
    "\n",
    "        if abs(p_val) < tol:\n",
    "            return z\n",
    "\n",
    "        G = dp_val / p_val\n",
    "        H = G**2 - (ddp_val / p_val) * (n - 1)\n",
    "        sqrt_term = np.sqrt((n - 1) * (n * H - G**2))\n",
    "\n",
    "        if abs(G + sqrt_term) > abs(G - sqrt_term):\n",
    "            denom = G + sqrt_term\n",
    "        else:\n",
    "            denom = G - sqrt_term\n",
    "\n",
    "        z_next = z - n / denom\n",
    "\n",
    "        if abs(z_next - z) < tol:\n",
    "            return z_next\n",
    "        \n",
    "        z = z_next\n",
    "    \n",
    "    raise ValueError('Metoda Laguerrea nie osiągnęła zbieżności w zadanej liczbie iteracji.')\n",
    "\n",
    "def roots_laguerre(poly_coeffs, tol=1e-12):\n",
    "\n",
    "    roots = []\n",
    "    remaining_coeffs = np.array(poly_coeffs, dtype=complex)\n",
    "\n",
    "    while len(remaining_coeffs) > 1:\n",
    "        z0 = 0  \n",
    "        root = laguerre_method(remaining_coeffs, z0, tol=tol)\n",
    "        roots.append(root)\n",
    "        remaining_coeffs = np.polydiv(remaining_coeffs, [1, -root])[0]\n",
    "\n",
    "    return roots\n",
    "\n",
    "coeffs = [1, 5 + 1j, -8 + 5j, 30 - 14j, -84]\n",
    "\n",
    "roots = roots_laguerre(coeffs)\n",
    "roots_scipy = np.roots(coeffs)\n",
    "print('Pierwiastki wielomianu wyznaczone metodą Laguerra zaimplementowaną samodzielnie:')\n",
    "for root in (roots):\n",
    "    print(root)\n",
    "print('\\nPierwiastki wielomianu wyznaczone metodą zaimplementowaną w SciPy:')\n",
    "for root in (roots_scipy):\n",
    "    print(root)"
   ]
  },
  {
   "cell_type": "markdown",
   "metadata": {},
   "source": [
    "Obliczone pierwiastki to:\n",
    "$$\n",
    "x_1 = 2i \\\\\n",
    "x_2 = 2 \\\\\n",
    "x_3 = -3i \\\\\n",
    "x_4 = -7 \\\\\n",
    "$$"
   ]
  }
 ],
 "metadata": {
  "kernelspec": {
   "display_name": "Python 3",
   "language": "python",
   "name": "python3"
  },
  "language_info": {
   "codemirror_mode": {
    "name": "ipython",
    "version": 3
   },
   "file_extension": ".py",
   "mimetype": "text/x-python",
   "name": "python",
   "nbconvert_exporter": "python",
   "pygments_lexer": "ipython3",
   "version": "3.13.0"
  }
 },
 "nbformat": 4,
 "nbformat_minor": 2
}
